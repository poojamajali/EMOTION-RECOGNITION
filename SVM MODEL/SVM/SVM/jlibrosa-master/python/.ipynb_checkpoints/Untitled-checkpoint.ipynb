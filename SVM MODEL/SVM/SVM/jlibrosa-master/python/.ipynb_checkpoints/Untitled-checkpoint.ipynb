{
 "cells": [
  {
   "cell_type": "code",
   "execution_count": 1,
   "metadata": {},
   "outputs": [],
   "source": [
    "import librosa"
   ]
  },
  {
   "cell_type": "code",
   "execution_count": 3,
   "metadata": {},
   "outputs": [],
   "source": [
    "x,sr = librosa.load('../audioFiles/1995-1826-0003.wav', sr=None)"
   ]
  },
  {
   "cell_type": "code",
   "execution_count": 4,
   "metadata": {},
   "outputs": [
    {
     "data": {
      "text/plain": [
       "array([3.0517578e-05, 3.0517578e-05, 0.0000000e+00, ..., 1.6174316e-03,\n",
       "       1.9226074e-03, 2.5634766e-03], dtype=float32)"
      ]
     },
     "execution_count": 4,
     "metadata": {},
     "output_type": "execute_result"
    }
   ],
   "source": [
    "x"
   ]
  },
  {
   "cell_type": "code",
   "execution_count": 5,
   "metadata": {},
   "outputs": [
    {
     "data": {
      "text/plain": [
       "49440"
      ]
     },
     "execution_count": 5,
     "metadata": {},
     "output_type": "execute_result"
    }
   ],
   "source": [
    "len(x)"
   ]
  },
  {
   "cell_type": "code",
   "execution_count": 6,
   "metadata": {},
   "outputs": [],
   "source": [
    "mfccs = librosa.feature.mfcc(x, sr, n_mfcc=20)"
   ]
  },
  {
   "cell_type": "code",
   "execution_count": 7,
   "metadata": {},
   "outputs": [
    {
     "data": {
      "text/plain": [
       "(20, 97)"
      ]
     },
     "execution_count": 7,
     "metadata": {},
     "output_type": "execute_result"
    }
   ],
   "source": [
    "mfccs.shape"
   ]
  },
  {
   "cell_type": "code",
   "execution_count": 9,
   "metadata": {},
   "outputs": [],
   "source": [
    "stft = librosa.core.stft(x, sr)"
   ]
  },
  {
   "cell_type": "code",
   "execution_count": 10,
   "metadata": {},
   "outputs": [
    {
     "data": {
      "text/plain": [
       "array([[ 0.08162546+0.0000000e+00j, -1.1050898 +0.0000000e+00j,\n",
       "        -1.7789439 +0.0000000e+00j, ..., -0.13721482+0.0000000e+00j,\n",
       "         0.11824194+0.0000000e+00j, -0.3203047 +0.0000000e+00j],\n",
       "       [-0.5985944 -4.4152942e-17j,  0.6640833 -1.2386563e+00j,\n",
       "         1.1110255 +6.3481742e-01j, ...,  0.16819473+7.9015619e-01j,\n",
       "        -0.2656236 -5.0802547e-01j,  0.21810295+6.0942270e-02j],\n",
       "       [-0.08413691+1.6797407e-16j,  0.24665341+1.4237189e+00j,\n",
       "        -0.4069986 -1.5242808e+00j, ..., -0.19380191-2.0288908e+00j,\n",
       "        -0.5810317 +1.1545832e+00j,  0.17749959+9.4191931e-02j],\n",
       "       ...,\n",
       "       [-0.04210649-3.6157870e-16j,  0.0730157 +1.3424273e-01j,\n",
       "        -0.08298416-6.6343464e-02j, ...,  0.24037617-4.7885306e-02j,\n",
       "        -0.19287018-3.9710090e-01j,  0.03607019+7.3483825e-02j],\n",
       "       [ 0.03855425-5.3533673e-17j, -0.13334735-7.7430747e-02j,\n",
       "        -0.08986597+9.9748425e-02j, ..., -0.94142544+9.8273903e-02j,\n",
       "        -0.19791865+5.1737529e-01j,  0.05539438+2.1062516e-02j],\n",
       "       [ 0.08354504+0.0000000e+00j,  0.15648584+0.0000000e+00j,\n",
       "         0.12796186+0.0000000e+00j, ...,  1.2262789 +0.0000000e+00j,\n",
       "         0.6086962 +0.0000000e+00j,  0.0371467 +0.0000000e+00j]],\n",
       "      dtype=complex64)"
      ]
     },
     "execution_count": 10,
     "metadata": {},
     "output_type": "execute_result"
    }
   ],
   "source": [
    "stft"
   ]
  },
  {
   "cell_type": "code",
   "execution_count": null,
   "metadata": {},
   "outputs": [],
   "source": [
    "stf"
   ]
  }
 ],
 "metadata": {
  "kernelspec": {
   "display_name": "kerasCPU",
   "language": "python",
   "name": "kerascpu"
  },
  "language_info": {
   "codemirror_mode": {
    "name": "ipython",
    "version": 3
   },
   "file_extension": ".py",
   "mimetype": "text/x-python",
   "name": "python",
   "nbconvert_exporter": "python",
   "pygments_lexer": "ipython3",
   "version": "3.7.7"
  }
 },
 "nbformat": 4,
 "nbformat_minor": 4
}
